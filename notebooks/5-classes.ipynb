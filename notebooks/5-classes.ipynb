{
 "metadata": {
  "name": ""
 },
 "nbformat": 3,
 "nbformat_minor": 0,
 "worksheets": [
  {
   "cells": [
    {
     "cell_type": "heading",
     "level": 1,
     "metadata": {},
     "source": [
      "Classes"
     ]
    },
    {
     "cell_type": "markdown",
     "metadata": {},
     "source": [
      "* A `class` is a useful object that is essentially a variable type (Python object) that you can define yourself.\n",
      "* C lets you define structs, which is a single object that can contain many other named variables. A `class` extends this concept in several ways, most obviously a `class` can contain both variables (properties) and functions (methods).\n",
      "* In general a `class` will embody some object and the data + functions that make sense to bundle together. Let's see some very simple syntax examples before moving on to the scripts directory where more complete examples are given."
     ]
    },
    {
     "cell_type": "code",
     "collapsed": false,
     "input": [
      "# Define a class with the class keyword\n",
      "class A:\n",
      "    \"\"\"Docstrings work here too\"\"\"\n",
      "    x = 5   # defining properties of the class\n",
      "    y = 7\n",
      "\n",
      "print(A)\n",
      "print(A.x, A.y)   # Access properties with `.` as with other Python objects\n",
      "A.x = 1           # Can change the class properties from outside the definition\n",
      "print(A.x, A.y)"
     ],
     "language": "python",
     "metadata": {},
     "outputs": [
      {
       "output_type": "stream",
       "stream": "stdout",
       "text": [
        "<class '__main__.A'>\n",
        "5 7\n",
        "1 7\n"
       ]
      }
     ],
     "prompt_number": 7
    },
    {
     "cell_type": "markdown",
     "metadata": {},
     "source": [
      "* This seems useless as you can only have one copy of the `class` and one set of values for properties.\n",
      "* What we want are different **instances** of the class that can contain different values. These can then be assigned to variables."
     ]
    },
    {
     "cell_type": "code",
     "collapsed": false,
     "input": [
      "class B:\n",
      "    x = 3  # Evaluated once during the definition (similar to functions)\n",
      "    y = [] # These will be initially the same for all instances\n",
      "    \n",
      "    def __init__(self, z):\n",
      "        \"\"\"This function is special. It's run when the instance of the class is created and\n",
      "        is useful to set up some initial state of the class. The argument 'self' isn't a\n",
      "        keyword but is the convention, it is basically the instance being passed into the\n",
      "        class.\"\"\"\n",
      "        self.z = z   # Can be different for each instance\n",
      "    \n",
      "    def z_squared(self):\n",
      "        return self.z**2\n",
      "\n",
      "# Instances are created in a similar way to functions and use the arguments from the \n",
      "# __init__ function if it exists.\n",
      "f = B(3)   # Note there is only the z argument because the 'self' is automatically passed in\n",
      "g = B(4)\n",
      "print(f.x, g.x)   # Same values\n",
      "f.x = 5\n",
      "print(f.x, g.x)   # Because integers are immutable these now differ\n",
      "\n",
      "print(f.y, g.y)   # Same values\n",
      "f.y.append(\"Hello\")\n",
      "print(f.y, g.y)   # Lists are mutable so they are both changed\n",
      "\n",
      "print(f.z_squared(), g.z_squared())    # Call class methods in a usual way"
     ],
     "language": "python",
     "metadata": {},
     "outputs": [
      {
       "output_type": "stream",
       "stream": "stdout",
       "text": [
        "3 3\n",
        "5 3\n",
        "[] []\n",
        "['Hello'] ['Hello']\n",
        "9 16\n"
       ]
      }
     ],
     "prompt_number": 19
    },
    {
     "cell_type": "markdown",
     "metadata": {},
     "source": [
      "* Note the issue that you can get into by defining the class variable `y=[]` above. It's the same issue as before when we looked at default keyword arguments.\n",
      "* Instead the `class` should usually have self.y=[] defined inside the `__init__` function. That way each instance has its own list that it can modify.\n",
      "* Now move on to the scripts directory to see some other `class` features and some awesome Python examples using the Python standard library and some of its extensive third party libraries for scientists."
     ]
    }
   ],
   "metadata": {}
  }
 ]
}