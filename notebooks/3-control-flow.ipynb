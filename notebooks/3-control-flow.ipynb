{
 "metadata": {
  "name": ""
 },
 "nbformat": 3,
 "nbformat_minor": 0,
 "worksheets": [
  {
   "cells": [
    {
     "cell_type": "heading",
     "level": 1,
     "metadata": {},
     "source": [
      "Control/Flow statements"
     ]
    },
    {
     "cell_type": "markdown",
     "metadata": {},
     "source": [
      "At the moment we've only seen how to store and manipulate different types of variable. Now we'll see how to loop and use if/else statements in Python."
     ]
    },
    {
     "cell_type": "heading",
     "level": 2,
     "metadata": {},
     "source": [
      "If/Else"
     ]
    },
    {
     "cell_type": "code",
     "collapsed": false,
     "input": [
      "a = 1\n",
      "if a == 1:\n",
      "    print(\"a = 1\")\n",
      "    b = a + 2  # Indentation level indicates scope of 'if'\n",
      "elif a == 2:  # Optionally can have 'elif' or 'else' statements \n",
      "    print(\"a = 2\")\n",
      "else:  # \n",
      "    print(\"a could be almost anything\")\n",
      "print(b)"
     ],
     "language": "python",
     "metadata": {},
     "outputs": [
      {
       "output_type": "stream",
       "stream": "stdout",
       "text": [
        "a = 1\n",
        "3\n"
       ]
      }
     ],
     "prompt_number": 35
    },
    {
     "cell_type": "markdown",
     "metadata": {},
     "source": [
      "* Above, 'a' was defined outside of the if-else block. But 'b' was defined inside the indented block and is still accessible outside the block.\n",
      "* If-else blocks don't have their own variable scope.\n",
      "* Boolean comparisons are supported and can be chained together. It's best to use parentheses to explicitly define the order they will evaluate in.\n",
      "* They use English language 'and, or, not' rather than the boolean operators '&&, ||, !'\n",
      "* You can also use the 'is' keyword as before, or a new one 'in'. This lets you check if an element is 'in' an iterable object like a list."
     ]
    },
    {
     "cell_type": "code",
     "collapsed": false,
     "input": [
      "a = True\n",
      "b = False\n",
      "if a or b:\n",
      "    print(\"a or b\")\n",
      "elif a and b:\n",
      "    print(\"a and b\")\n",
      "elif a and not b:\n",
      "    print(\"a and not b\")\n",
      "else:  # No\n",
      "    print(\"Failed all somehow\")"
     ],
     "language": "python",
     "metadata": {},
     "outputs": [
      {
       "output_type": "stream",
       "stream": "stdout",
       "text": [
        "a or b\n"
       ]
      }
     ],
     "prompt_number": 36
    },
    {
     "cell_type": "code",
     "collapsed": false,
     "input": [
      "l = [\"a\", \"b\", \"c\"]\n",
      "if \"d\" not in l:  # Don't have to loop and check each elemnt for elem == 'd'\n",
      "    print(\"Hooray!\")"
     ],
     "language": "python",
     "metadata": {},
     "outputs": [
      {
       "output_type": "stream",
       "stream": "stdout",
       "text": [
        "Hooray!\n"
       ]
      }
     ],
     "prompt_number": 14
    },
    {
     "cell_type": "markdown",
     "metadata": {},
     "source": [
      "* By the way, most objects in Python have a boolean value when used with 'if'"
     ]
    },
    {
     "cell_type": "code",
     "collapsed": false,
     "input": [
      "a = \"\"\n",
      "if a:\n",
      "    print(\"Variables can be true\")\n",
      "else:\n",
      "    print(\"Or false\")"
     ],
     "language": "python",
     "metadata": {},
     "outputs": [
      {
       "output_type": "stream",
       "stream": "stdout",
       "text": [
        "Or false\n"
       ]
      }
     ],
     "prompt_number": 13
    },
    {
     "cell_type": "heading",
     "level": 2,
     "metadata": {},
     "source": [
      "Looping"
     ]
    },
    {
     "cell_type": "markdown",
     "metadata": {},
     "source": [
      "* In general when you loop, you are probably looping *over* a set of values, using each value in turn for some operation.\n",
      "* In C you will often need to know the number of values contained in an array and then loop over indices from 0->n-1 and pick out the value each element of the array.\n",
      "* In Python you rarely use indices to loop, but instead loop *directly over an iterable object* e.g. a list. This means that you don't need to know the size of the container or the objects inside as the loop will end when the elements run out."
     ]
    },
    {
     "cell_type": "heading",
     "level": 3,
     "metadata": {},
     "source": [
      "For loops"
     ]
    },
    {
     "cell_type": "markdown",
     "metadata": {},
     "source": [
      "* Default 'for' loops start at the 0th index and progress forwards until they reach the last element, then they end."
     ]
    },
    {
     "cell_type": "code",
     "collapsed": false,
     "input": [
      "a = [\"a\", \"c\", \"e\", \"d\", \"b\"]\n",
      "for elem in a:    # Simple for loop, variable 'elem' is the element currently reached\n",
      "    print(elem, end=\" \")  # I'm changeing the newline at the end of the print for a space"
     ],
     "language": "python",
     "metadata": {},
     "outputs": [
      {
       "output_type": "stream",
       "stream": "stdout",
       "text": [
        "a c e d b "
       ]
      }
     ],
     "prompt_number": 51
    },
    {
     "cell_type": "code",
     "collapsed": false,
     "input": [
      "for elem in reversed(a):   # Can loop in reverse order\n",
      "    print(elem, end=\" \")"
     ],
     "language": "python",
     "metadata": {},
     "outputs": [
      {
       "output_type": "stream",
       "stream": "stdout",
       "text": [
        "b d e c a "
       ]
      }
     ],
     "prompt_number": 52
    },
    {
     "cell_type": "code",
     "collapsed": false,
     "input": [
      "for i,elem in enumerate(a):   # Use enumerate() if you want the index and the element\n",
      "    print(i, elem)"
     ],
     "language": "python",
     "metadata": {},
     "outputs": [
      {
       "output_type": "stream",
       "stream": "stdout",
       "text": [
        "0 a\n",
        "1 c\n",
        "2 e\n",
        "3 d\n",
        "4 b\n"
       ]
      }
     ],
     "prompt_number": 54
    },
    {
     "cell_type": "markdown",
     "metadata": {},
     "source": [
      "* The syntax for enumerate above is using tuple (Un)packing.\n",
      "* You might wonder how Python knows what to assign to 'i' and 'elem'. The enumerate function is actually returning *tuples* with the 0th element being the index of the current element, and the second being the element itself.\n",
      "* The syntax 'i,elem' *unpacks* the values inside this implicit tuple into the two variables during each iteration.\n",
      "* This shorthand syntax eliminates a lot of boilerplate code for a common use for looping."
     ]
    },
    {
     "cell_type": "code",
     "collapsed": false,
     "input": [
      "for elem in sorted(a):  # Can sort in an obvious way, then iterate\n",
      "    print(elem, end=\" \")\n",
      "\n",
      "print()\n",
      "print(a)   # Note that the sorted() function made a copy and didn't affect the list.\n",
      "a.sort()   # list.sort() DOES re-order the elements in place.\n",
      "print(a)"
     ],
     "language": "python",
     "metadata": {},
     "outputs": [
      {
       "output_type": "stream",
       "stream": "stdout",
       "text": [
        "a b c d e \n",
        "['a', 'c', 'e', 'd', 'b']\n",
        "['a', 'b', 'c', 'd', 'e']\n"
       ]
      }
     ],
     "prompt_number": 48
    },
    {
     "cell_type": "markdown",
     "metadata": {},
     "source": [
      "* The sorted() function is much more flexible though. It can take **key functions** as an argument to give you a custom sort order.\n",
      "* Much better performance than comparison functions.\n",
      "* Simply pass in a function that takes an element and returns a value that can be used for sorting."
     ]
    },
    {
     "cell_type": "code",
     "collapsed": false,
     "input": [
      "a = [\"Dave\", \"Andy\", \"Charlotte\", \"Emma\", \"Darcey\", \"Rob\"]\n",
      "print(len(a))   # The built in len() function takes an iterable and gives you its length\n",
      "for elem in sorted(a, key=len):   # Will iterate by length of string\n",
      "    print(elem)"
     ],
     "language": "python",
     "metadata": {},
     "outputs": [
      {
       "output_type": "stream",
       "stream": "stdout",
       "text": [
        "6\n",
        "Rob\n",
        "Dave\n",
        "Andy\n",
        "Emma\n",
        "Darcey\n",
        "Charlotte\n"
       ]
      }
     ],
     "prompt_number": 49
    },
    {
     "cell_type": "markdown",
     "metadata": {},
     "source": [
      "* What about looping over two or more lists simultaneously, use the **zip()** function."
     ]
    },
    {
     "cell_type": "code",
     "collapsed": false,
     "input": [
      "a = [\"Dave\", \"Andy\", \"Charlotte\", \"Emma\", \"Darcey\", \"Rob\"]\n",
      "b = [\"Handsome\", \"Uggo\", \"Busy\"]\n",
      "# Note the two lists are different lengths\n",
      "for name,adjective in zip(a,b):  # Zip is fast and memory efficient\n",
      "    print(adjective,name)\n",
      "print(list(zip(a,b)))  # Zip dosn't generate a container until you want one"
     ],
     "language": "python",
     "metadata": {},
     "outputs": [
      {
       "output_type": "stream",
       "stream": "stdout",
       "text": [
        "Handsome Dave\n",
        "Uggo Andy\n",
        "Busy Charlotte\n",
        "[('Dave', 'Handsome'), ('Andy', 'Uggo'), ('Charlotte', 'Busy')]\n"
       ]
      }
     ],
     "prompt_number": 66
    },
    {
     "cell_type": "markdown",
     "metadata": {},
     "source": [
      "* What if you want to loop over a simple sequence of numbers that you haven't created yet. Use the **range()** function.\n",
      "* The range() function takes the arguments range( start, stop, step ) where start and step are optional. You can give only the stopping value and you get the integers from 0->(stop-1)."
     ]
    },
    {
     "cell_type": "code",
     "collapsed": false,
     "input": [
      "for i in range(10):   # The range() function gives you iterators for a sequence you define\n",
      "    print(i, end=\" \")"
     ],
     "language": "python",
     "metadata": {},
     "outputs": [
      {
       "output_type": "stream",
       "stream": "stdout",
       "text": [
        "0 1 2 3 4 5 6 7 8 9 "
       ]
      }
     ],
     "prompt_number": 50
    },
    {
     "cell_type": "code",
     "collapsed": false,
     "input": [
      "for i in range(9, -1, -1):  # Start at 9, decrease by 1 and stop looping when hitting -1.\n",
      "    print(i, end=\" \")\n",
      "\n",
      "print()\n",
      "for i in range(0, 20, 3):   # Start at 0, increase by 3 and stop looping when hitting 20.\n",
      "    print(i, end=\" \")"
     ],
     "language": "python",
     "metadata": {},
     "outputs": [
      {
       "output_type": "stream",
       "stream": "stdout",
       "text": [
        "9 8 7 6 5 4 3 2 1 0 \n",
        "0 3 6 9 12 15 18 "
       ]
      }
     ],
     "prompt_number": 58
    },
    {
     "cell_type": "code",
     "collapsed": false,
     "input": [
      "l = list(range(10))  # Can use range to rapidly make lists/tuples/etc of sequences.\n",
      "print(l)"
     ],
     "language": "python",
     "metadata": {},
     "outputs": [
      {
       "output_type": "stream",
       "stream": "stdout",
       "text": [
        "[0, 1, 2, 3, 4, 5, 6, 7, 8, 9]\n"
       ]
      }
     ],
     "prompt_number": 59
    },
    {
     "cell_type": "markdown",
     "metadata": {},
     "source": [
      "* Note that we had to call list(range(10)) above to make the list, because although the object returned by range() behaves like a list in a loop, *it isn't one in Python 3!*\n",
      "* To save processing time and memory, range() and functions like it return each value sequentially without making the full list object until you explicitly make it with the list() function. This means you can safely loop over use enormous ranges/zips without running out of memory."
     ]
    },
    {
     "cell_type": "heading",
     "level": 3,
     "metadata": {},
     "source": [
      "Dictionaries"
     ]
    },
    {
     "cell_type": "markdown",
     "metadata": {},
     "source": [
      "* Dictionaries contain a key/value per element, how do you loop over them? Remember the view objects."
     ]
    },
    {
     "cell_type": "code",
     "collapsed": false,
     "input": [
      "d = {\"Dave\":27, \"Andy\":28, \"Emma\":4, \"Darcey\":2}\n",
      "for k in d:  # Looping directly over the dictionary gives you the keys\n",
      "    print(k)"
     ],
     "language": "python",
     "metadata": {},
     "outputs": [
      {
       "output_type": "stream",
       "stream": "stdout",
       "text": [
        "Dave\n",
        "Darcey\n",
        "Emma\n",
        "Andy\n"
       ]
      }
     ],
     "prompt_number": 4
    },
    {
     "cell_type": "code",
     "collapsed": false,
     "input": [
      "# Need to use methods of dictionary to get at values or key-value pairs\n",
      "items = d.items()\n",
      "keys = d.keys()\n",
      "values = d.values()\n",
      "for it,k,v in zip(items, keys, values):  # Don't assume these objects have the same order!\n",
      "    print(k,v,it)"
     ],
     "language": "python",
     "metadata": {},
     "outputs": [
      {
       "output_type": "stream",
       "stream": "stdout",
       "text": [
        "Dave 27 ('Dave', 27)\n",
        "Darcey 2 ('Darcey', 2)\n",
        "Emma 4 ('Emma', 4)\n",
        "Andy 28 ('Andy', 28)\n"
       ]
      }
     ],
     "prompt_number": 5
    },
    {
     "cell_type": "heading",
     "level": 3,
     "metadata": {},
     "source": [
      "List comprehensions"
     ]
    },
    {
     "cell_type": "markdown",
     "metadata": {},
     "source": [
      "* Remember that we can initialise a list by putting the elements inside square brackets '[]'.\n",
      "* Since 'for' loops return elements for use in each iteration you can imagine generating a new list by inserting the 'for' loop inside the brackets."
     ]
    },
    {
     "cell_type": "code",
     "collapsed": false,
     "input": [
      "l = list(range(10))  # Make a quick list\n",
      "l_sq = [elem**2 for elem in l]  # Square the elements and put the result into the new list\n",
      "print(l)\n",
      "print(l_sq)"
     ],
     "language": "python",
     "metadata": {},
     "outputs": [
      {
       "output_type": "stream",
       "stream": "stdout",
       "text": [
        "[0, 1, 2, 3, 4, 5, 6, 7, 8, 9]\n",
        "[0, 1, 4, 9, 16, 25, 36, 49, 64, 81]\n"
       ]
      }
     ],
     "prompt_number": 7
    },
    {
     "cell_type": "markdown",
     "metadata": {},
     "source": [
      "* A list comprehension consists of an expression, followed by a 'for' loop. After that you can add many more 'for' loops or even 'if' statements, in the same order as if they were ordinary loops.\n",
      "* However don't get cocky as they can quickly become unreadable if overused."
     ]
    },
    {
     "cell_type": "code",
     "collapsed": false,
     "input": [
      "l_odd =[ elem for elem in l if (elem%2) != 0 ]  # Only add odd numbers\n",
      "print(l_odd)"
     ],
     "language": "python",
     "metadata": {},
     "outputs": [
      {
       "output_type": "stream",
       "stream": "stdout",
       "text": [
        "[1, 3, 5, 7, 9]\n"
       ]
      }
     ],
     "prompt_number": 9
    },
    {
     "cell_type": "code",
     "collapsed": false,
     "input": [
      "vec = [(1,2,3), (4,5,6), (7,8,9)]  # Let's flatten this\n",
      "l_flat = [ num for elem in vec for num in elem ]  # Nested loops\n",
      "print(l_flat)"
     ],
     "language": "python",
     "metadata": {},
     "outputs": [
      {
       "output_type": "stream",
       "stream": "stdout",
       "text": [
        "[1, 2, 3, 4, 5, 6, 7, 8, 9]\n"
       ]
      }
     ],
     "prompt_number": 16
    },
    {
     "cell_type": "heading",
     "level": 3,
     "metadata": {},
     "source": [
      "Extra clauses in 'for' loops"
     ]
    },
    {
     "cell_type": "markdown",
     "metadata": {},
     "source": [
      "* There are additional ways to control how 'for' loops progress, using the 'break', 'continue', 'pass' and 'else' statements."
     ]
    },
    {
     "cell_type": "code",
     "collapsed": false,
     "input": [
      "for i in range(10):\n",
      "    pass   # Used when there's nothing else to be put here"
     ],
     "language": "python",
     "metadata": {},
     "outputs": []
    },
    {
     "cell_type": "code",
     "collapsed": false,
     "input": [
      "for i in range(10):\n",
      "    print(i, end=\" \")\n",
      "    if i==5:\n",
      "        break   # Exits the loop at this point"
     ],
     "language": "python",
     "metadata": {},
     "outputs": [
      {
       "output_type": "stream",
       "stream": "stdout",
       "text": [
        "0 1 2 3 4 5 "
       ]
      }
     ],
     "prompt_number": 61
    },
    {
     "cell_type": "code",
     "collapsed": false,
     "input": [
      "for i in range(10):\n",
      "    if (i%2)==0:  # Check for even numbers\n",
      "        continue  # Progresses to next iteration missing rest of loop block\n",
      "    print(\"An odd number\",i)"
     ],
     "language": "python",
     "metadata": {},
     "outputs": [
      {
       "output_type": "stream",
       "stream": "stdout",
       "text": [
        "An odd number 1\n",
        "An odd number 3\n",
        "An odd number 5\n",
        "An odd number 7\n",
        "An odd number 9\n"
       ]
      }
     ],
     "prompt_number": 62
    },
    {
     "cell_type": "markdown",
     "metadata": {},
     "source": [
      "* There are technically two outcomes of a 'for' loop. Either the loop ends normally or it hits a 'break' statement that ends it early.\n",
      "* In the olden days of goto statements people knew that 'for' loops had an implicit 'if' and 'goto' embedded in them i.e. If I haven't reached the end condition of the loop goto the beginning and loop again.\n",
      "* Based on this idea, 'for' loops in Python can use an 'else' statement after them which is only run if the 'for' loop finished without a break statement.\n",
      "* This can be very helpful to use instead of keeping track of flag variables."
     ]
    },
    {
     "cell_type": "code",
     "collapsed": false,
     "input": [
      "for i in range(10):\n",
      "    print(i, end=\" \")\n",
      "    if i==15:\n",
      "        break\n",
      "else:\n",
      "    print(\"\\nMade it to the end!\")\n",
      "    # Note that the 'else' is connected to the 'for' not the 'if'"
     ],
     "language": "python",
     "metadata": {},
     "outputs": [
      {
       "output_type": "stream",
       "stream": "stdout",
       "text": [
        "0 1 2 3 4 5 6 7 8 9 \n",
        "Made it to the end!\n"
       ]
      }
     ],
     "prompt_number": 64
    },
    {
     "cell_type": "heading",
     "level": 2,
     "metadata": {},
     "source": [
      "While loops"
     ]
    },
    {
     "cell_type": "markdown",
     "metadata": {},
     "source": [
      "* 'While' loops are much the same as they always are."
     ]
    },
    {
     "cell_type": "code",
     "collapsed": false,
     "input": [
      "a = 0\n",
      "while a < 10:\n",
      "    print(a, end=\" \")\n",
      "    a+=1"
     ],
     "language": "python",
     "metadata": {},
     "outputs": [
      {
       "output_type": "stream",
       "stream": "stdout",
       "text": [
        "0 1 2 3 4 5 6 7 8 9 "
       ]
      }
     ],
     "prompt_number": 18
    },
    {
     "cell_type": "markdown",
     "metadata": {},
     "source": [
      "* Just as with 'for' loops you can use 'pass', 'break', 'continue' and even the 'else' clause with 'while' loops i.e. If the loop exits without using a 'break' statement the 'else' code will be run."
     ]
    },
    {
     "cell_type": "code",
     "collapsed": false,
     "input": [
      "a = 0\n",
      "while a < 10:\n",
      "    print(a, end=\" \")\n",
      "    if a == -1:\n",
      "        break\n",
      "    a+=1\n",
      "else:\n",
      "    print(\"\\nCan't break this!\")"
     ],
     "language": "python",
     "metadata": {},
     "outputs": [
      {
       "output_type": "stream",
       "stream": "stdout",
       "text": [
        "0 1 2 3 4 5 6 7 8 9 \n",
        "Can't break this!\n"
       ]
      }
     ],
     "prompt_number": 19
    }
   ],
   "metadata": {}
  }
 ]
}