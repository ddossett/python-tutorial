{
 "metadata": {
  "name": ""
 },
 "nbformat": 3,
 "nbformat_minor": 0,
 "worksheets": [
  {
   "cells": [
    {
     "cell_type": "heading",
     "level": 1,
     "metadata": {},
     "source": [
      "Container types"
     ]
    },
    {
     "cell_type": "markdown",
     "metadata": {},
     "source": [
      "* There are several default containers in Python which allow a single variable to contain multiple variables. Many specialised ones exist in the Python standard library but the four built-in ones are:\n",
      "  * Lists\n",
      "  * Tuples\n",
      "  * Dictionaries\n",
      "  * Sets"
     ]
    },
    {
     "cell_type": "heading",
     "level": 2,
     "metadata": {},
     "source": [
      "Lists"
     ]
    },
    {
     "cell_type": "markdown",
     "metadata": {},
     "source": [
      "* These are ordered containers for variables. They are similar to arrays in C but more closely resemble vectors/lists in C++. They can contain any number or type of Python objects and a list does not have to contain only one type of Python object.\n",
      "* As mentioned previously, some Python objects are **mutable**, meaning that their value can be altered without copying to a new Python object. Lists are one of these mutable objects.\n",
      "* You can add, remove and change the objects in a list at will and it will change size to accomodate the elements dynamically.\n",
      "* You can access individual elements of a list by using its index. In Python indices always start at **zero** like C."
     ]
    },
    {
     "cell_type": "code",
     "collapsed": false,
     "input": [
      "l = []  # Can create an empty list\n",
      "l = [\"a\",\"b\",\"c\",\"d\",\"e\",\"f\"]  # Defining a simple list of strings\n",
      "print(l)  # Like all Python objects you can print them directly for information\n",
      "print(l[0])  # Accessing an index directly uses '[i]' notation\n",
      "print(l[4])"
     ],
     "language": "python",
     "metadata": {},
     "outputs": [
      {
       "output_type": "stream",
       "stream": "stdout",
       "text": [
        "['a', 'b', 'c', 'd', 'e', 'f']\n",
        "a\n",
        "e\n"
       ]
      }
     ],
     "prompt_number": 1
    },
    {
     "cell_type": "code",
     "collapsed": false,
     "input": [
      "l.append(\"g\")  # The append member function (or 'method') let's you add an element\n",
      "               # to the end of the list.\n",
      "print(l)"
     ],
     "language": "python",
     "metadata": {},
     "outputs": [
      {
       "output_type": "stream",
       "stream": "stdout",
       "text": [
        "['a', 'b', 'c', 'd', 'e', 'f', 'g']\n"
       ]
      }
     ],
     "prompt_number": 2
    },
    {
     "cell_type": "markdown",
     "metadata": {},
     "source": [
      "* Firstly, note that the append method is called from the list variable, it is **not** an outside function taking a list as an argument like the print function.\n",
      "* Now the important difference in behaviour between the **append** and **extend** methods."
     ]
    },
    {
     "cell_type": "code",
     "collapsed": false,
     "input": [
      "l = [\"a\",\"b\",\"c\",\"d\",\"e\",\"f\"]\n",
      "l.append([\"g\",\"h\",\"i\",\"j\"])  # Appending a list to a list\n",
      "print(l)\n",
      "print()\n",
      "l = [\"a\",\"b\",\"c\",\"d\",\"e\",\"f\"]\n",
      "l.extend([\"g\",\"h\",\"i\",\"j\"])  # Extending a list\n",
      "print(l)"
     ],
     "language": "python",
     "metadata": {},
     "outputs": [
      {
       "output_type": "stream",
       "stream": "stdout",
       "text": [
        "['a', 'b', 'c', 'd', 'e', 'f', ['g', 'h', 'i', 'j']]\n",
        "\n",
        "['a', 'b', 'c', 'd', 'e', 'f', 'g', 'h', 'i', 'j']\n"
       ]
      }
     ],
     "prompt_number": 3
    },
    {
     "cell_type": "markdown",
     "metadata": {},
     "source": [
      "* Appending will always put whatever Python object at the end of the list, *even if it's another list*.\n",
      "* The extend method only takes a list as an argument. It then loops through the elements of the list and appends each element in turn.\n",
      "* You can also insert/remove an element at an index and remove specific valued elements."
     ]
    },
    {
     "cell_type": "code",
     "collapsed": false,
     "input": [
      "l = [\"a\",\"c\"]\n",
      "print(l)\n",
      "l.insert(1,\"b\")  # Puts object at an index and shunts all equal and higher elements upwards\n",
      "print(l)\n",
      "\n",
      "# You can query what the index is for a particular value\n",
      "print(l.index(\"c\"))\n",
      "\n",
      "# Now what happens when you remove a value at an index\n",
      "popped = l.pop(2)  # the 'pop(2)' actually returns the value of the removed object\n",
      "print(l)\n",
      "print(popped)\n",
      "# Could have used 'pop()' with no argument to remove the last element by default.\n",
      "\n",
      "# Can also remove by value\n",
      "l = [\"a\", \"b\", \"c\", \"b\"]\n",
      "l.remove(\"b\")  # Removes the first instance of the 'b' value, leaves all others\n",
      "print(l)"
     ],
     "language": "python",
     "metadata": {},
     "outputs": [
      {
       "output_type": "stream",
       "stream": "stdout",
       "text": [
        "['a', 'c']\n",
        "['a', 'b', 'c']\n",
        "2\n",
        "['a', 'b']\n",
        "c\n",
        "['a', 'c', 'b']\n"
       ]
      }
     ],
     "prompt_number": 4
    },
    {
     "cell_type": "code",
     "collapsed": false,
     "input": [
      "l = [[\"a\", \"b\"], [\"c\", \"d\", \"e\"]]  # Nesting lists is easy and doesn't have to be square\n",
      "print(l[0][1])  # Accessing by index is evaluated left->right\n",
      "print(l[1][2])"
     ],
     "language": "python",
     "metadata": {},
     "outputs": [
      {
       "output_type": "stream",
       "stream": "stdout",
       "text": [
        "b\n",
        "e\n"
       ]
      }
     ],
     "prompt_number": 5
    },
    {
     "cell_type": "markdown",
     "metadata": {},
     "source": [
      "* Indices for lists don't have to be positive."
     ]
    },
    {
     "cell_type": "code",
     "collapsed": false,
     "input": [
      "l = [\"a\", \"b\", \"c\", \"d\", \"e\"]\n",
      "print(l[-1])"
     ],
     "language": "python",
     "metadata": {},
     "outputs": [
      {
       "output_type": "stream",
       "stream": "stdout",
       "text": [
        "e\n"
       ]
      }
     ],
     "prompt_number": 6
    },
    {
     "cell_type": "markdown",
     "metadata": {},
     "source": [
      "* Arithmetic operators have meaning for lists."
     ]
    },
    {
     "cell_type": "code",
     "collapsed": false,
     "input": [
      "l = [\"a\", \"b\"]\n",
      "print(l*3)  # Creates a new list of repeating elements\n",
      "print(l + [\"c\", \"d\"])  # Creates a new list with elements from second list appended"
     ],
     "language": "python",
     "metadata": {},
     "outputs": [
      {
       "output_type": "stream",
       "stream": "stdout",
       "text": [
        "['a', 'b', 'a', 'b', 'a', 'b']\n",
        "['a', 'b', 'c', 'd']\n"
       ]
      }
     ],
     "prompt_number": 7
    },
    {
     "cell_type": "markdown",
     "metadata": {},
     "source": [
      "* Subsets of lists can be creating using the **slicing** syntax."
     ]
    },
    {
     "cell_type": "code",
     "collapsed": false,
     "input": [
      "l = [0, 1, 2, 3, 4, 5, 6, 7, 8, 9]\n",
      "print(l[0:3])  # Slicing uses indices and notation [from : to : step(optional)]\n",
      "print(l[4:9:2])\n",
      "print(l[4:])  # Leaving out either side of the colon implies all elements\n",
      "print(l[5:-2])  # Negative indices still viable\n",
      "print(l is not l[:])  # Can use slicing to return a copy of the list rather than the same object"
     ],
     "language": "python",
     "metadata": {},
     "outputs": [
      {
       "output_type": "stream",
       "stream": "stdout",
       "text": [
        "[0, 1, 2]\n",
        "[4, 6, 8]\n",
        "[4, 5, 6, 7, 8, 9]\n",
        "[5, 6, 7]\n",
        "True\n"
       ]
      }
     ],
     "prompt_number": 8
    },
    {
     "cell_type": "heading",
     "level": 2,
     "metadata": {},
     "source": [
      "Tuples"
     ]
    },
    {
     "cell_type": "markdown",
     "metadata": {},
     "source": [
      "* Tuples are very similar to lists, in that they are ordered containers and you can access their values by index.\n",
      "* However they are **immutable** meaning that they cannot be updated once created. Essentially a read-only list.\n",
      "* Tuples use parentheses '()' rather than square brackets '[]' to initialise themselves."
     ]
    },
    {
     "cell_type": "code",
     "collapsed": false,
     "input": [
      "t = ()  # Can create an empty tuple\n",
      "t = (\"a\", \"b\", \"c\", \"d\", \"e\", \"f\")\n",
      "print(t)\n",
      "print(t[1]) # Access index\n",
      "print(t[0:2])  # Tuples can also slice to return a new tuple\n",
      "# t[1] = \"k\"  # Not allowed as tuples are immutable"
     ],
     "language": "python",
     "metadata": {},
     "outputs": [
      {
       "output_type": "stream",
       "stream": "stdout",
       "text": [
        "('a', 'b', 'c', 'd', 'e', 'f')\n",
        "b\n",
        "('a', 'b')\n"
       ]
      }
     ],
     "prompt_number": 9
    },
    {
     "cell_type": "markdown",
     "metadata": {},
     "source": [
      "* Note though that by using a mutable type (list) as an element in a tuple, we can get a bit tricky and change the value of an element in a tuple, as below."
     ]
    },
    {
     "cell_type": "code",
     "collapsed": false,
     "input": [
      "t = ([1,1],[2,2])\n",
      "print(t)\n",
      "t[0][0]=2\n",
      "print(t)"
     ],
     "language": "python",
     "metadata": {},
     "outputs": [
      {
       "output_type": "stream",
       "stream": "stdout",
       "text": [
        "([1, 1], [2, 2])\n",
        "([2, 1], [2, 2])\n"
       ]
      }
     ],
     "prompt_number": 10
    },
    {
     "cell_type": "heading",
     "level": 2,
     "metadata": {},
     "source": [
      "Dictionaries"
     ]
    },
    {
     "cell_type": "markdown",
     "metadata": {},
     "source": [
      "* These are another mutable type but the elements are **unordered**.\n",
      "* They are essentially a hash table with **key-value pairs**, very similar to a C++ map.\n",
      "* They are initialised with curly-braces '{}' and comma separated key : value pairs. \n",
      "* They allow you to return a value (any Python object) by accessing using a key (any immutable Python object), which is often a number or string."
     ]
    },
    {
     "cell_type": "code",
     "collapsed": false,
     "input": [
      "ages = {}  # An empty dictionary\n",
      "ages = {\"David\":27, \"Andy\":28, \"Emma\":4}  # Initialise with keys and values\n",
      "print(ages[\"David\"])  # Return the value by using the key\n",
      "\n",
      "ages[\"Darcey\"] = 2  # Can add/change keys\n",
      "print(ages[\"Darcey\"])"
     ],
     "language": "python",
     "metadata": {},
     "outputs": [
      {
       "output_type": "stream",
       "stream": "stdout",
       "text": [
        "27\n",
        "2\n"
       ]
      }
     ],
     "prompt_number": 11
    },
    {
     "cell_type": "markdown",
     "metadata": {},
     "source": [
      "* Can get a 'view object' (called dict_keys) of the keys or values at will, which are dynamically updated as the dictionary changes."
     ]
    },
    {
     "cell_type": "code",
     "collapsed": false,
     "input": [
      "viewKeys = ages.keys()  # Similar object with values() method\n",
      "print(viewKeys)\n",
      "ages[\"Rosie\"] = 58\n",
      "print(viewKeys)  # View object is updated without having to called keys() again"
     ],
     "language": "python",
     "metadata": {},
     "outputs": [
      {
       "output_type": "stream",
       "stream": "stdout",
       "text": [
        "dict_keys(['Darcey', 'David', 'Andy', 'Emma'])\n",
        "dict_keys(['Darcey', 'David', 'Rosie', 'Andy', 'Emma'])\n"
       ]
      }
     ],
     "prompt_number": 12
    },
    {
     "cell_type": "markdown",
     "metadata": {},
     "source": [
      "* Seems a useless object now, just wait."
     ]
    },
    {
     "cell_type": "heading",
     "level": 2,
     "metadata": {},
     "source": [
      "Sets"
     ]
    },
    {
     "cell_type": "markdown",
     "metadata": {},
     "source": [
      "* This container is again an unordered collection of elements and is mutable.\n",
      "* Initialised with curly-braces '{}'.\n",
      "* Good for comparisons between different sets of variables as in mathematics."
     ]
    },
    {
     "cell_type": "code",
     "collapsed": false,
     "input": [
      "s1 = {\"a\", \"b\", \"c\", \"d\"}  # Initialised\n",
      "print(s1)\n",
      "s1.add(\"e\")  # Can add and remove elements\n",
      "s1.remove(\"e\")\n",
      "s2 = {\"c\", \"d\", \"e\", \"f\"}\n",
      "# Several mathematical operations\n",
      "print(s1.union(s2))\n",
      "print(s1.difference(s2))"
     ],
     "language": "python",
     "metadata": {},
     "outputs": [
      {
       "output_type": "stream",
       "stream": "stdout",
       "text": [
        "{'a', 'd', 'b', 'c'}\n",
        "{'a', 'c', 'e', 'd', 'f', 'b'}\n",
        "{'a', 'b'}\n"
       ]
      }
     ],
     "prompt_number": 4
    },
    {
     "cell_type": "markdown",
     "metadata": {},
     "source": [
      "* Note that the elements won't necesariuly be in any particular order."
     ]
    }
   ],
   "metadata": {}
  }
 ]
}