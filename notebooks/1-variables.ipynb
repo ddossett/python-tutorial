{
 "metadata": {
  "name": ""
 },
 "nbformat": 3,
 "nbformat_minor": 0,
 "worksheets": [
  {
   "cells": [
    {
     "cell_type": "heading",
     "level": 1,
     "metadata": {},
     "source": [
      "Variables"
     ]
    },
    {
     "cell_type": "markdown",
     "metadata": {},
     "source": [
      "* Python is 'dynamically typed', meaning that the interpreter doesn't require you to explicitly state the type of a variable when you create it, unlike C/FORTRAN.\n",
      "* Python is also 'strongly typed', meaning that the variables **do** have a given type internally once declared and operations trying to combine different types will give errors, just like C/FORTRAN."
     ]
    },
    {
     "cell_type": "heading",
     "level": 2,
     "metadata": {},
     "source": [
      "Creating variables of simple types"
     ]
    },
    {
     "cell_type": "code",
     "collapsed": false,
     "input": [
      "a = 1 # Integer\n",
      "a"
     ],
     "language": "python",
     "metadata": {},
     "outputs": [
      {
       "metadata": {},
       "output_type": "pyout",
       "prompt_number": 1,
       "text": [
        "1"
       ]
      }
     ],
     "prompt_number": 1
    },
    {
     "cell_type": "code",
     "collapsed": false,
     "input": [
      "b = 2.0 # Float\n",
      "b"
     ],
     "language": "python",
     "metadata": {},
     "outputs": [
      {
       "metadata": {},
       "output_type": "pyout",
       "prompt_number": 2,
       "text": [
        "2.0"
       ]
      }
     ],
     "prompt_number": 2
    },
    {
     "cell_type": "code",
     "collapsed": false,
     "input": [
      "c = \"A string\" # String, single, double, and treble-double quotations marks are\n",
      "               # all accepted and hierarchical\n",
      "c"
     ],
     "language": "python",
     "metadata": {},
     "outputs": [
      {
       "metadata": {},
       "output_type": "pyout",
       "prompt_number": 3,
       "text": [
        "'A string'"
       ]
      }
     ],
     "prompt_number": 3
    },
    {
     "cell_type": "code",
     "collapsed": false,
     "input": [
      "d = 1+2j # Complex number\n",
      "d"
     ],
     "language": "python",
     "metadata": {},
     "outputs": [
      {
       "metadata": {},
       "output_type": "pyout",
       "prompt_number": 4,
       "text": [
        "(1+2j)"
       ]
      }
     ],
     "prompt_number": 4
    },
    {
     "cell_type": "code",
     "collapsed": false,
     "input": [
      "e = True # Boolean\n",
      "e"
     ],
     "language": "python",
     "metadata": {},
     "outputs": [
      {
       "metadata": {},
       "output_type": "pyout",
       "prompt_number": 5,
       "text": [
        "True"
       ]
      }
     ],
     "prompt_number": 5
    },
    {
     "cell_type": "heading",
     "level": 2,
     "metadata": {},
     "source": [
      "Difference between Python variables and C/FORTRAN"
     ]
    },
    {
     "cell_type": "markdown",
     "metadata": {},
     "source": [
      "* In C when you declare an integer variable, 'a', and its value, 1, you are asking for an \"integer's worth\" of memory and putting an integer representation of 1 at that memory location. Using the variable 'a' then queries the memory location to get the **value** stored at 'a'.\n",
      "* In Python you are instead asking for a Python **object** of type 'int' and a specific value to be created, then to be given the **label** 'a'. Using the variable 'a' then tells the interpreter to return the **object** that 'a' points at.\n",
      "* The fact that Python variables act like labels, rather than the value they contain can lead to some false assumptions about how the assignment operator '=' works."
     ]
    },
    {
     "cell_type": "code",
     "collapsed": false,
     "input": [
      "a = 1\n",
      "b = 2\n",
      "print(\"id(a) =\", id(a))\n",
      "print(\"id(b) =\", id(b))\n",
      "b = a\n",
      "print()\n",
      "print(\"id(a) =\", id(a))\n",
      "print(\"id(b) =\", id(b))"
     ],
     "language": "python",
     "metadata": {},
     "outputs": [
      {
       "output_type": "stream",
       "stream": "stdout",
       "text": [
        "id(a) = 10455040\n",
        "id(b) = 10455072\n",
        "\n",
        "id(a) = 10455040\n",
        "id(b) = 10455040\n"
       ]
      }
     ],
     "prompt_number": 21
    },
    {
     "cell_type": "markdown",
     "metadata": {},
     "source": [
      "* In the code above we are asking for the memory identifier (like a pointer) of the integer 'a' and 'b'. After asking for 'b = a' we can see that 'b' actually refers to the same point in memory as 'a'. Rather than having the **value** of 'a' copied into the memory of 'b', as it would in C. In essence we have **labelled** the integer 1 with both variables 'a' and 'b'.\n",
      "* However all of the types we've seen so far are **immutable**, meaning that their values cannot be changed without changing their 'id'. Because of this we can't get into trouble by forgetting this difference here. But the **mutable** types discussed later can get you into trouble if you don't remember what your variables are labelling."
     ]
    },
    {
     "cell_type": "heading",
     "level": 2,
     "metadata": {},
     "source": [
      "Operators"
     ]
    },
    {
     "cell_type": "markdown",
     "metadata": {},
     "source": [
      "* Python supports the standard arithmetic operators and a few extra ones"
     ]
    },
    {
     "cell_type": "code",
     "collapsed": false,
     "input": [
      "a = 5.0\n",
      "b = 2.0\n",
      "print(a + b)\n",
      "print(a - b)\n",
      "print(a * b)\n",
      "print(a / b)\n",
      "print()\n",
      "print(a % b)  # Modulus, divides left by right and returns remainder\n",
      "print(a ** b) # Exponent, raises left value to the power of the right\n",
      "print(a // b) # Floor division, divides left by right and removes any\n",
      "              # value after the decimal point"
     ],
     "language": "python",
     "metadata": {},
     "outputs": [
      {
       "output_type": "stream",
       "stream": "stdout",
       "text": [
        "7.0\n",
        "3.0\n",
        "10.0\n",
        "2.5\n",
        "\n",
        "1.0\n",
        "25.0\n",
        "2.0\n"
       ]
      }
     ],
     "prompt_number": 7
    },
    {
     "cell_type": "markdown",
     "metadata": {},
     "source": [
      "* Strings can be joined together with the '+' operator"
     ]
    },
    {
     "cell_type": "code",
     "collapsed": false,
     "input": [
      "a = \"str\"\n",
      "b = \"ing\"\n",
      "print(a + b)"
     ],
     "language": "python",
     "metadata": {},
     "outputs": [
      {
       "output_type": "stream",
       "stream": "stdout",
       "text": [
        "string\n"
       ]
      }
     ],
     "prompt_number": 8
    },
    {
     "cell_type": "markdown",
     "metadata": {},
     "source": [
      "* You can use all of the arithmetic operators with the '=' operator in the following way"
     ]
    },
    {
     "cell_type": "code",
     "collapsed": false,
     "input": [
      "a = 1\n",
      "a += 1 # Equivalent to a = a + 1\n",
      "print(a)\n",
      "b = 5\n",
      "a /= b # Equivalent to a = a / b\n",
      "print(a)"
     ],
     "language": "python",
     "metadata": {},
     "outputs": [
      {
       "output_type": "stream",
       "stream": "stdout",
       "text": [
        "2\n",
        "0.4\n"
       ]
      }
     ],
     "prompt_number": 9
    },
    {
     "cell_type": "heading",
     "level": 2,
     "metadata": {},
     "source": [
      "Comparisons"
     ]
    },
    {
     "cell_type": "markdown",
     "metadata": {},
     "source": [
      "* Python supports the standard comparison operators"
     ]
    },
    {
     "cell_type": "heading",
     "level": 2,
     "metadata": {},
     "source": [
      "Casting"
     ]
    },
    {
     "cell_type": "code",
     "collapsed": false,
     "input": [
      "# Define some numbers as strings\n",
      "a = \"3.0\"\n",
      "b = \"-6.0\"\n",
      "print(a + b) # '+' operator simply concatenates strings\n",
      "print(float(a) + float(b)) # Cast as floats before '+' evaluated"
     ],
     "language": "python",
     "metadata": {},
     "outputs": [
      {
       "output_type": "stream",
       "stream": "stdout",
       "text": [
        "3.0-6.0\n",
        "-3.0\n"
       ]
      }
     ],
     "prompt_number": 15
    },
    {
     "cell_type": "code",
     "collapsed": false,
     "input": [
      "c = -4.0\n",
      "str(c)+\" is a string\" # Can cast to strings"
     ],
     "language": "python",
     "metadata": {},
     "outputs": [
      {
       "metadata": {},
       "output_type": "pyout",
       "prompt_number": 18,
       "text": [
        "'-4.0 is a string'"
       ]
      }
     ],
     "prompt_number": 18
    },
    {
     "cell_type": "code",
     "collapsed": false,
     "input": [
      "int(float(a)) # Can chain together casting"
     ],
     "language": "python",
     "metadata": {},
     "outputs": [
      {
       "metadata": {},
       "output_type": "pyout",
       "prompt_number": 17,
       "text": [
        "3"
       ]
      }
     ],
     "prompt_number": 17
    }
   ],
   "metadata": {}
  }
 ]
}