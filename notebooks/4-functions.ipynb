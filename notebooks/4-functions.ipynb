{
 "metadata": {
  "name": ""
 },
 "nbformat": 3,
 "nbformat_minor": 0,
 "worksheets": [
  {
   "cells": [
    {
     "cell_type": "heading",
     "level": 1,
     "metadata": {},
     "source": [
      "Functions"
     ]
    },
    {
     "cell_type": "heading",
     "level": 2,
     "metadata": {},
     "source": [
      "Defining new functions"
     ]
    },
    {
     "cell_type": "markdown",
     "metadata": {},
     "source": [
      "* As in most programming languages, in Python you can define your own functions.\n",
      "* You give your new function a name, it may or may not take arguments and it can have a single return value."
     ]
    },
    {
     "cell_type": "code",
     "collapsed": false,
     "input": [
      "a= \"I'm a string\"\n",
      "\n",
      "def fibonnaci(n):\n",
      "    \"\"\"Will give you back the nth fibonnaci number, starting at 0\"\"\"\n",
      "    # Can put in triple-quoted string here as a doc-string which is used in help()\n",
      "    # Functions are indented\n",
      "    a, b = 0, 1\n",
      "    for i in range(n-1):\n",
      "        a, b = b, a+b\n",
      "    return a\n",
      "\n",
      "help(fibonnaci)\n",
      "print(fibonnaci(6))  # Call functions in the obvious way\n",
      "print(a)  # 'a' is unchanged by its doppleganger inside the function"
     ],
     "language": "python",
     "metadata": {},
     "outputs": [
      {
       "output_type": "stream",
       "stream": "stdout",
       "text": [
        "Help on function fibonnaci in module __main__:\n",
        "\n",
        "fibonnaci(n)\n",
        "    Will give you back the nth fibonnaci number, starting at 0\n",
        "\n",
        "5\n",
        "I'm a string\n"
       ]
      }
     ],
     "prompt_number": 20
    },
    {
     "cell_type": "markdown",
     "metadata": {},
     "source": [
      "* Functions have their own scope for variables. If you try to use a variable inside a function, Python will first lookup if it was defined inside this function. Then if it can't find it it will move outwards in scope until it finds it or fails (raising an execption).\n",
      "* Note in the above case that defining a new 'a' variable inside the function didn't overwrite the variable 'a' defined outside first. Instead it created a new 'a' variable in the function's scope, which was used from then on until the function returned.\n",
      "* Variables defined outside the scope of any function are called global variables. Because Python will search outer scopes for a variable if you use it in a function without first assigning it, it is best practice not to assign any global variables unless they are constants. People will often use a main() function for the top logic of their script to avoid defining any global variables (see scripts directory).\n",
      "* You can also explicitly allow a global variable to be assigned to from inside a function by using the 'global' keyword. Python 3  has an additional keyword, 'nonlocal', which behaves similarly but we won't address here."
     ]
    },
    {
     "cell_type": "code",
     "collapsed": false,
     "input": [
      "a = 10\n",
      "\n",
      "def global_change():\n",
      "    global a  # Have to call 'global a' to gain access to 'a' so we can reassign it.\n",
      "    a = 20\n",
      "\n",
      "def print_global():\n",
      "    print(a)   # Can read access variables outside of function without calling global\n",
      "\n",
      "global_change()\n",
      "print_global()"
     ],
     "language": "python",
     "metadata": {},
     "outputs": [
      {
       "output_type": "stream",
       "stream": "stdout",
       "text": [
        "20\n"
       ]
      }
     ],
     "prompt_number": 1
    },
    {
     "cell_type": "markdown",
     "metadata": {},
     "source": [
      "* All function arguments are passed by **reference** not by **value**.\n",
      "* In C when you use a variable to pass a value into a function, an implicit copy is made of that variable and the variable inside the function is completely new but with the same value.\n",
      "* In Python a variable is passed by reference into a function, meaning that the variable used inside the function is the same object as the one passed in. This means that if you pass a mutable object into the function you can change its value and the variable outside the function will reflect this change. Beware that non-mutable types like integers/floats cannot have their values changed without creating a new object anyway."
     ]
    },
    {
     "cell_type": "code",
     "collapsed": false,
     "input": [
      "def change_value(x):\n",
      "    print(id(x), end=\" \")  # Is it the same object?\n",
      "    x.pop()  # remove the last element\n",
      "\n",
      "a = list(range(6))  #Construct list\n",
      "print(id(a),a)  # Find out its id and contents\n",
      "change_value(a)  #Use function to change it in place with no copying\n",
      "print(a)"
     ],
     "language": "python",
     "metadata": {},
     "outputs": [
      {
       "output_type": "stream",
       "stream": "stdout",
       "text": [
        "3058952044 [0, 1, 2, 3, 4, 5]\n",
        "3058952044 [0, 1, 2, 3, 4]\n"
       ]
      }
     ],
     "prompt_number": 12
    },
    {
     "cell_type": "markdown",
     "metadata": {},
     "source": [
      "* Every time you specify a name for an argument of a function you are allowed to simply use that keyword when you're calling the function. This means that you can give the function arguments out of order when calling the function.\n",
      "* Python functions also support default values for function arguments which are specified inside the function definition.\n",
      "* Using both of these features gives you great flexibility about the arguments you need to pass to a function."
     ]
    },
    {
     "cell_type": "code",
     "collapsed": false,
     "input": [
      "def many_arguments(first_name, surname, country, dob=\"1979 01 01\"):\n",
      "    return [first_name, surname, country, dob]\n",
      "# Your default arguments must come last in the function definition\n",
      "\n",
      "print(many_arguments(\"David\", \"Dossett\", \"UK\", \"1987 02 20\"))\n",
      "print(many_arguments(\"David\", country=\"UK\", surname=\"Dossett\"))"
     ],
     "language": "python",
     "metadata": {},
     "outputs": [
      {
       "output_type": "stream",
       "stream": "stdout",
       "text": [
        "['David', 'Dossett', 'UK', '1987 02 20']\n",
        "['David', 'Dossett', 'UK', '1979 01 01']\n"
       ]
      }
     ],
     "prompt_number": 22
    },
    {
     "cell_type": "markdown",
     "metadata": {},
     "source": [
      "* Functions are first class objects in Python and as such they can be bound to variable names and passed around like any other object.\n",
      "* However, this means that when they are defined their default arguments are also defined in memory, and will be the same objects whenever they are used. This can cause confusion with mutable types."
     ]
    },
    {
     "cell_type": "code",
     "collapsed": false,
     "input": [
      "# BE CAREFUL ABOUT USING MUTABLE TYPES AS DEFAULT ARGUMENTS!!!\n",
      "def mutable_weird(x=[]):\n",
      "    x.append(1)\n",
      "    return x\n",
      "\n",
      "print(mutable_weird())\n",
      "print(mutable_weird())\n",
      "print(mutable_weird())\n",
      "print(mutable_weird([0]))  #Passing in a list instead of using the default\n",
      "\n",
      "# Can assign variable names to a function object\n",
      "func = mutable_weird  # Note the absence of brackets\n",
      "print(func)\n",
      "print(func())"
     ],
     "language": "python",
     "metadata": {},
     "outputs": [
      {
       "output_type": "stream",
       "stream": "stdout",
       "text": [
        "[1]\n",
        "[1, 1]\n",
        "[1, 1, 1]\n",
        "[0, 1]\n",
        "<function mutable_weird at 0xb67005cc>\n",
        "[1, 1, 1, 1]\n"
       ]
      }
     ],
     "prompt_number": 4
    },
    {
     "cell_type": "markdown",
     "metadata": {},
     "source": [
      "* Functions can also be defined within each other (nested) and Python supports recursive functions, where a function can call itself.\n",
      "* You can also pass a function as an argument to another function. We saw an example in the sorted() function while discussing looping, which can take arguments of the form sorted(myvar, key=myfunc).\n",
      "* A useful way to quickly create functions to pass into these types of functions is to use **lambda functions**. These are anonymous functions (they don't get a function name) which can be created almost anywhere in your code without requiring a `def` keyword."
     ]
    },
    {
     "cell_type": "code",
     "collapsed": false,
     "input": [
      "# lambda syntax;  lambda arguments: expression\n",
      "odds = list(filter( lambda x: x%2, range(10)))\n",
      "print(odds)\n",
      "# Filter() takes a function and an iterable as arguments and returns an iterator\n",
      "# that can be used to create the list. Only elements that return True from the \n",
      "# passed function will be used in the final list."
     ],
     "language": "python",
     "metadata": {},
     "outputs": [
      {
       "output_type": "stream",
       "stream": "stdout",
       "text": [
        "[1, 3, 5, 7, 9]\n"
       ]
      }
     ],
     "prompt_number": 10
    },
    {
     "cell_type": "code",
     "collapsed": false,
     "input": [
      "def f(x, y):\n",
      "    return x+y\n",
      "\n",
      "g = lambda x, y: x+y  # Equivalent lambda function bound to a variable\n",
      "\n",
      "print(f(4,6), g(4,6))  # Called in the same way"
     ],
     "language": "python",
     "metadata": {},
     "outputs": [
      {
       "output_type": "stream",
       "stream": "stdout",
       "text": [
        "10 10\n"
       ]
      }
     ],
     "prompt_number": 11
    },
    {
     "cell_type": "markdown",
     "metadata": {},
     "source": [
      "* Lambda functions implicitly `return` the value of their expression.\n",
      "* Lambda functions can be used to solve similar problems as list comprehensions. There are several builtin functions that take functions as arguments and are useful to know how to use, `sorted()`, `map()`, `filter()` and `reduce()`.\n",
      "* Through these properties Python supports **Functional Programming** but does not enforce its use, which is an advanced topic we won't discuss."
     ]
    }
   ],
   "metadata": {}
  }
 ]
}